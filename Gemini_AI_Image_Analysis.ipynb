{
  "nbformat": 4,
  "nbformat_minor": 0,
  "metadata": {
    "colab": {
      "provenance": []
    },
    "kernelspec": {
      "name": "python3",
      "display_name": "Python 3"
    },
    "language_info": {
      "name": "python"
    }
  },
  "cells": [
    {
      "cell_type": "code",
      "execution_count": 1,
      "metadata": {
        "id": "NOmtUkFKB4d1"
      },
      "outputs": [],
      "source": [
        "import google.generativeai as genai\n",
        "from google.colab import userdata\n",
        "GOOGLE_API_KEY=userdata.get('GOOGLE_API_KEY')\n",
        "genai.configure(api_key=GOOGLE_API_KEY)"
      ]
    },
    {
      "cell_type": "code",
      "source": [
        "import pathlib\n",
        "import textwrap\n",
        "from IPython.display import display, Markdown\n",
        "def to_markdown(text):\n",
        "  text = text.replace('•', '  *')\n",
        "  return Markdown(textwrap.indent(text, '> ', predicate=lambda _: True))"
      ],
      "metadata": {
        "id": "i4plyvMJCDWw"
      },
      "execution_count": 2,
      "outputs": []
    },
    {
      "cell_type": "code",
      "source": [
        "import PIL.Image\n",
        "img = PIL.Image.open('image1.jpeg')\n",
        "import PIL.Image\n",
        "img = PIL.Image.open('image1.jpeg')\n",
        "img\n",
        "model = genai.GenerativeModel('gemini-1.5-flash')\n",
        "response = model.generate_content([\"Write a short, engaging blog post based on this picture. \\nIt should include a description of the meal in the photo and talk about my journey meal prepping.\", img],\n",
        "stream=True)\n",
        "response.resolve()"
      ],
      "metadata": {
        "id": "zsyyPdVrCIBP"
      },
      "execution_count": 3,
      "outputs": []
    },
    {
      "cell_type": "code",
      "source": [
        "import PIL.Image\n",
        "img = PIL.Image.open('/content/image1.jpeg')\n",
        "img\n",
        "model = genai.GenerativeModel('gemini-1.5-flash')\n",
        "response = model.generate_content([\"Write a short, engaging blog post based on this picture.  It should include a description of the meal in the photo and talk about my journey meal prepping.\", img],\n",
        "stream=True)\n",
        "response.resolve()"
      ],
      "metadata": {
        "id": "Rtip6rZLCK1j"
      },
      "execution_count": 4,
      "outputs": []
    },
    {
      "cell_type": "code",
      "source": [
        "to_markdown(response.text)"
      ],
      "metadata": {
        "colab": {
          "base_uri": "https://localhost:8080/",
          "height": 330
        },
        "id": "JnsmG904Cq7C",
        "outputId": "5620287e-dd85-4602-8bdc-5604fabfd77f"
      },
      "execution_count": 5,
      "outputs": [
        {
          "output_type": "execute_result",
          "data": {
            "text/plain": [
              "<IPython.core.display.Markdown object>"
            ],
            "text/markdown": "> ## My Meal Prep Journey: From Chaos to Colorful Containers!\n> \n> Let's be honest, the weeknights were a blur.  Dinner was always a frantic scramble, a race against the clock between work and bedtime.  Something had to change, and that \"something\" became meal prepping.  \n> \n> The picture above shows the delicious result of my latest effort: two perfectly portioned containers bursting with teriyaki chicken, fluffy rice, vibrant carrots, and a healthy dose of broccoli.  It's a simple dish, but it's packed with flavor and nutrients, a far cry from the takeout containers and questionable leftovers that used to dominate my week.\n> \n> My journey wasn't without its bumps. The first few attempts were… let's say, less than impressive.  Overcooked chicken, soggy rice, and a distinct lack of organization plagued my initial efforts.  But I persevered!  I learned the importance of properly prepping ingredients, the art of time management in the kitchen, and the surprising joy of planning ahead.\n> \n> Now, Sunday afternoons are dedicated to meal prep. It's a peaceful, productive time, and the payoff is huge.  The feeling of knowing I have healthy, delicious meals ready to go all week is truly liberating. No more late-night cravings, no more frantic searches for something quick and easy (and usually unhealthy). Just grab a container, heat it up, and enjoy!\n> \n> If you're considering starting your own meal prep journey, don't be intimidated. Start small, experiment with recipes, and most importantly, be kind to yourself.  It's a process, and the delicious, healthy results are absolutely worth it.\n"
          },
          "metadata": {},
          "execution_count": 5
        }
      ]
    },
    {
      "cell_type": "code",
      "source": [
        "response = model.generate_content([\"Generate an accurate caption for the image.\", img])\n",
        "print(response.text)"
      ],
      "metadata": {
        "colab": {
          "base_uri": "https://localhost:8080/",
          "height": 312
        },
        "id": "DznIgVFlCuiK",
        "outputId": "e91fcad1-3f0d-491e-ba9d-7ad01628f031"
      },
      "execution_count": 6,
      "outputs": [
        {
          "output_type": "stream",
          "name": "stdout",
          "text": [
            "Here's a caption for the image:\n",
            "\n",
            "**Option 1 (Concise):**\n",
            "\n",
            "> Healthy and delicious meal prep!  Chicken and broccoli with rice.\n",
            "\n",
            "**Option 2 (More descriptive):**\n",
            "\n",
            "> Two perfectly portioned containers of teriyaki chicken and broccoli with rice.  Great for a healthy and convenient lunch or dinner.\n",
            "\n",
            "**Option 3 (Engaging):**\n",
            "\n",
            "> Meal prepping made easy!  This teriyaki chicken and veggie bowl is packed with flavor and nutrients.  What's in your meal prep containers this week? #mealprep #healthyfood #teriyaki #chickenandbroccoli\n",
            "\n",
            "\n",
            "Choose the option that best suits your needs and intended audience.  If you have additional details (like the specific recipe or where the image is from), you can include that information as well.\n",
            "\n"
          ]
        }
      ]
    },
    {
      "cell_type": "code",
      "source": [
        "from PIL import Image\n",
        "image_path = \"logo1.jpg\"\n",
        "image = Image.open(image_path)\n",
        "response = model.generate_content([\"Identify the brand or company associated with this logo\", image])\n",
        "print(response.text)"
      ],
      "metadata": {
        "id": "NH8rsfw8C9I2",
        "colab": {
          "base_uri": "https://localhost:8080/",
          "height": 52
        },
        "outputId": "d02f17c8-13fc-4527-98a8-bdfe9bef4246"
      },
      "execution_count": 9,
      "outputs": [
        {
          "output_type": "stream",
          "name": "stdout",
          "text": [
            "That's the logo for **Amazon**.\n",
            "\n"
          ]
        }
      ]
    },
    {
      "cell_type": "code",
      "source": [
        "image_path = \"product.jpg\"\n",
        "image = Image.open(image_path)\n",
        "response = model.generate_content([\"What product is shown in this image?\", image])\n",
        "print(response.text)"
      ],
      "metadata": {
        "colab": {
          "base_uri": "https://localhost:8080/",
          "height": 34
        },
        "id": "zJHTCzGbsYKD",
        "outputId": "6ce7d89c-e193-4d8c-ef0e-153016a8c740"
      },
      "execution_count": 10,
      "outputs": [
        {
          "output_type": "stream",
          "name": "stdout",
          "text": [
            "That's a pair of black over-ear headphones.\n"
          ]
        }
      ]
    },
    {
      "cell_type": "code",
      "source": [
        "response = model.generate_content([\"Suggest similar products to this one\", image])\n",
        "print(response.text)"
      ],
      "metadata": {
        "colab": {
          "base_uri": "https://localhost:8080/",
          "height": 592
        },
        "id": "X6r6sh0ZtS7Q",
        "outputId": "e75edbea-9731-4ca0-8a1e-f332202940b0"
      },
      "execution_count": 11,
      "outputs": [
        {
          "output_type": "stream",
          "name": "stdout",
          "text": [
            "Here are some similar products to the pictured headphones, focusing on key features:\n",
            "\n",
            "**Similar Features to Consider:**\n",
            "\n",
            "* **Over-ear design:**  The image shows over-ear headphones, which fully encompass the ear.  Look for other over-ear options.\n",
            "* **Closed-back design:**  These headphones appear to be closed-back (meaning they block outside noise). This is a common design for noise reduction and preventing sound leakage.\n",
            "* **Black color:** The headphones are black. While color isn't a functional feature, many users prefer black headphones.\n",
            "* **Likely wired:**  The image doesn't show a wireless connection, so it's likely wired. Consider whether you need wired or wireless headphones.\n",
            "\n",
            "\n",
            "**Product Suggestions (general categories):**\n",
            "\n",
            "* **Sony WH-CH710N:** While a different design, this is a well-regarded option offering noise canceling, over-ear design, and comes in black. It's a wireless model though.\n",
            "\n",
            "* **Audio-Technica ATH-M50x:** These are popular studio headphones known for their sound quality, closed-back design, and wired connectivity. They're a professional-grade option.\n",
            "\n",
            "* **AKG K361:** This model is often praised for comfort and sound isolation, with a closed-back over-ear design. Also, typically wired.\n",
            "\n",
            "* **Beyerdynamic DT 770 PRO:**  Another studio-focused headphone with excellent sound quality and a closed-back design. Usually wired.\n",
            "\n",
            "\n",
            "**Finding Similar Products:**\n",
            "\n",
            "To find more options, search online retailers like Amazon, Best Buy, or specialized audio stores using these keywords:\n",
            "\n",
            "* \"Closed-back over-ear headphones\"\n",
            "* \"Wired over-ear headphones\"\n",
            "* \"Black over-ear headphones\"\n",
            "* \"Studio headphones (if interested in professional-quality sound)\"\n",
            "\n",
            "**Remember to check reviews before purchasing to ensure the headphones meet your specific needs and preferences.**  The \"best\" headphones will depend on your priorities (sound quality, noise cancellation, comfort, budget, etc.).\n",
            "\n"
          ]
        }
      ]
    },
    {
      "cell_type": "code",
      "source": [
        "image_path = \"invoice.jpg\"\n",
        "image = Image.open(image_path)\n",
        "response = model.generate_content([\"Extract the price for thsi image\", image])\n",
        "print(response.text)"
      ],
      "metadata": {
        "colab": {
          "base_uri": "https://localhost:8080/",
          "height": 34
        },
        "id": "T4-h0PFjtqRg",
        "outputId": "920cbd44-8fad-4429-ecf9-c1b137b5447a"
      },
      "execution_count": 12,
      "outputs": [
        {
          "output_type": "stream",
          "name": "stdout",
          "text": [
            "The price for each item listed on the invoice is $10.00.  The subtotal is $100.00, with a 10% tax, resulting in a grand total of $100.00.\n"
          ]
        }
      ]
    },
    {
      "cell_type": "code",
      "source": [
        "response = model.generate_content([\"Extract the price, currency, and any discounts from this image\", image])\n",
        "print(response.text)"
      ],
      "metadata": {
        "colab": {
          "base_uri": "https://localhost:8080/",
          "height": 104
        },
        "id": "7UwHBUFrvTMF",
        "outputId": "fd922323-0196-4466-c458-bc0af023d648"
      },
      "execution_count": 13,
      "outputs": [
        {
          "output_type": "stream",
          "name": "stdout",
          "text": [
            "Here's the extracted information from the invoice image:\n",
            "\n",
            "* **Price:** $10.00 (for each item)\n",
            "* **Currency:** USD ($)\n",
            "* **Discounts:** None listed.  There is a 10% tax, but this isn't a discount.  The grand total is the same as the subtotal, suggesting no discounts were applied.\n"
          ]
        }
      ]
    },
    {
      "cell_type": "code",
      "source": [
        "image_path = \"bicycle.jpg\"\n",
        "image = Image.open(image_path)\n",
        "response = model.generate_content([\"Identify all objects present in this image\", image])\n",
        "print(response.text)"
      ],
      "metadata": {
        "colab": {
          "base_uri": "https://localhost:8080/",
          "height": 243
        },
        "id": "po6e3kzHvb1K",
        "outputId": "9e2ed491-3c53-4e5c-beaa-950abffe7e74"
      },
      "execution_count": 14,
      "outputs": [
        {
          "output_type": "stream",
          "name": "stdout",
          "text": [
            "Here are the objects present in the image:\n",
            "\n",
            "* **Two bicycles:** One is mostly black and yellow, the other is white.\n",
            "* **Two men:** Riding the bicycles. One is wearing a blue shirt and camouflage shorts; the other is wearing a grey long-sleeved shirt, jeans, and a red cap.\n",
            "* **A man in the background:**  Sitting inside a building, appears to be an observer.\n",
            "* **A motorcycle:** Parked on the left side of the street.\n",
            "* **A building:**  With a roller shutter door and windows. Some shelves with items are also visible in the building.\n",
            "* **Chairs:**  Visible inside the building.\n",
            "* **Street:** Wet from rain.\n",
            "* **Vegetation:** Some grass is visible along the side of the street.\n",
            "\n",
            "\n",
            "\n"
          ]
        }
      ]
    },
    {
      "cell_type": "code",
      "source": [],
      "metadata": {
        "id": "ffvhICBUxV5L"
      },
      "execution_count": null,
      "outputs": []
    }
  ]
}