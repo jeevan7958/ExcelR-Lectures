{
  "nbformat": 4,
  "nbformat_minor": 0,
  "metadata": {
    "colab": {
      "provenance": []
    },
    "kernelspec": {
      "name": "python3",
      "display_name": "Python 3"
    },
    "language_info": {
      "name": "python"
    }
  },
  "cells": [
    {
      "cell_type": "code",
      "execution_count": 1,
      "metadata": {
        "colab": {
          "base_uri": "https://localhost:8080/"
        },
        "id": "_rXPoR6Df-0V",
        "outputId": "20ddfb85-fa95-4fc3-e066-3ddb884e7451"
      },
      "outputs": [
        {
          "output_type": "stream",
          "name": "stdout",
          "text": [
            "Collecting pyPDF2\n",
            "  Downloading pypdf2-3.0.1-py3-none-any.whl.metadata (6.8 kB)\n",
            "Downloading pypdf2-3.0.1-py3-none-any.whl (232 kB)\n",
            "\u001b[?25l   \u001b[90m━━━━━━━━━━━━━━━━━━━━━━━━━━━━━━━━━━━━━━━━\u001b[0m \u001b[32m0.0/232.6 kB\u001b[0m \u001b[31m?\u001b[0m eta \u001b[36m-:--:--\u001b[0m\r\u001b[2K   \u001b[90m━━━━━━━━━━━━━━━━━━━━━━━━━━━━━━━━━━━━━━━━\u001b[0m \u001b[32m232.6/232.6 kB\u001b[0m \u001b[31m12.7 MB/s\u001b[0m eta \u001b[36m0:00:00\u001b[0m\n",
            "\u001b[?25hInstalling collected packages: pyPDF2\n",
            "Successfully installed pyPDF2-3.0.1\n"
          ]
        }
      ],
      "source": [
        "pip install pyPDF2"
      ]
    },
    {
      "cell_type": "code",
      "source": [
        "import google.generativeai as genai\n",
        "from google.colab import userdata\n",
        "GOOGLE_API_KEY=userdata.get('GOOGLE_API_KEY')\n",
        "genai.configure(api_key=GOOGLE_API_KEY)"
      ],
      "metadata": {
        "id": "bYqw_otIguaO"
      },
      "execution_count": 5,
      "outputs": []
    },
    {
      "cell_type": "code",
      "source": [
        "import PyPDF2\n",
        "def extract_text_from_pdf(pdf_path):\n",
        "    \"\"\"Extracts text from a given health report PDF as pyPDF2.\"\"\"\n",
        "    text = \"\"\n",
        "    with open(pdf_path, 'rb') as file:\n",
        "        reader = PyPDF2.PdfReader(file)\n",
        "        for page in reader.pages:\n",
        "            text += page.extract_text() +\"\\n\"\n",
        "    return text"
      ],
      "metadata": {
        "id": "Hc55NHtThIAe"
      },
      "execution_count": 6,
      "outputs": []
    },
    {
      "cell_type": "code",
      "source": [
        "def extract_health_insights(text):\n",
        "    \"\"\"Asks Gemini AI to extract health insights from the given text.\"\"\"\n",
        "    model = genai.GenerativeModel(\"gemini-1.5-flash\")\n",
        "    prompt = f\"Extract key insights from the following health report:\\n\\n{text}\"\n",
        "    response = model.generate_content(prompt)\n",
        "    return response.text\n",
        "pdf_file = \"health_report.pdf\"\n",
        "extracted_text = extract_text_from_pdf(pdf_file)\n",
        "insights = extract_health_insights(extracted_text)\n",
        "print(\"Key Insights: \\n\", insights)"
      ],
      "metadata": {
        "colab": {
          "base_uri": "https://localhost:8080/",
          "height": 506
        },
        "id": "HxtNVCsikksc",
        "outputId": "8e892d23-e868-4a2d-be4b-b2f365339531"
      },
      "execution_count": 9,
      "outputs": [
        {
          "output_type": "stream",
          "name": "stdout",
          "text": [
            "Key Insights: \n",
            " Key Insights from Mr. Kishan Goud's Health Report (MR2100003157):\n",
            "\n",
            "**Infectious Disease Screen:**\n",
            "\n",
            "* **Negative for Dengue:**  NS1 antigen, IgG, and IgM tests were all negative.\n",
            "* **Negative for Malaria:** Rapid Malaria tests (Plasmodium falciparum and Plasmodium vivax) were negative.\n",
            "* **Widal Test:**  Elevated titers for *Salmonella Typhi* \"O\" (1:160) and \"H\" (1:80) suggest possible past or current infection.  *Salmonella Paratyphi* \"AH\" and \"BH\" titers were within the normal range.  Further investigation may be needed to confirm active typhoid infection.\n",
            "\n",
            "\n",
            "**Hematology:**\n",
            "\n",
            "* **Elevated ESR:**  Erythrocyte Sedimentation Rate (ESR) of 26 mm/hr (1st hour) and 52 mm/hr (2nd hour) is significantly elevated, indicating inflammation in the body.\n",
            "* **Complete Blood Count (CBC):**  All values (Hemoglobin, RBC, WBC, Platelets, PCV, Differential Count) are within normal limits except for a slightly elevated ESR.\n",
            "\n",
            "**Biochemistry:**\n",
            "\n",
            "* **Liver Function Tests (LFTs):**  All liver function parameters (bilirubin, alkaline phosphatase, SGOT, SGPT, total protein, albumin, globulin, A/G ratio) are within normal ranges, indicating no significant liver dysfunction.\n",
            "* **Electrolytes:**  Serum sodium (122 mmol/l) is slightly low, falling outside of the normal range (135-146 mmol/l). Potassium and chloride levels are within normal limits.\n",
            "* **Renal Function:** Serum creatinine (0.8 mg/dl) is within the normal range, indicating normal kidney function.\n",
            "* **Blood Glucose:**  Random blood glucose is not provided. However, HbA1c is 5.4%, indicating good glycemic control, suggesting the patient does not have diabetes or that their diabetes is well-managed.\n",
            "\n",
            "\n",
            "**Overall:**\n",
            "\n",
            "The report shows some concerning results. The elevated ESR suggests inflammation,  and the Widal test results warrant further investigation for possible typhoid.  The slightly low sodium warrants attention and requires clinical correlation.  All other test results are within normal ranges.  Further clinical assessment and potentially additional tests are recommended to fully understand the patient's condition.  The doctor (Krishna Prasad) should interpret these results within the context of the patient's clinical presentation.\n",
            "\n"
          ]
        }
      ]
    },
    {
      "cell_type": "code",
      "source": [
        "def summarize_health_report(text):\n",
        "    \"\"\"Summarizes the given health report using Gemini AI.\"\"\"\n",
        "    model = genai.GenerativeModel(\"gemini-1.5-flash\")\n",
        "    prompt = f\"Summarize the following health report:\\n\\n{text}\"\n",
        "    response = model.generate_content(prompt)\n",
        "    return response.text\n",
        "summary = summarize_health_report(extracted_text)\n",
        "print(\"Summary: \\n\", summary)\n"
      ],
      "metadata": {
        "colab": {
          "base_uri": "https://localhost:8080/",
          "height": 471
        },
        "id": "f8QoXN9bk_2j",
        "outputId": "02ccf675-3cfa-44b7-9901-928bf4299f87"
      },
      "execution_count": 10,
      "outputs": [
        {
          "output_type": "stream",
          "name": "stdout",
          "text": [
            "Summary: \n",
            " Mr. Kishan Goud's (MRN: MR2100003157) lab results from February 1st, 2021, show:\n",
            "\n",
            "**Infectious Disease Tests:**\n",
            "\n",
            "* **Widal Test:** Elevated titers for *Salmonella Typhi* \"O\" (1:160) and \"H\" (1:80) suggesting possible past or current typhoid infection.  *Salmonella Paratyphi* \"AH\" and \"BH\" titers were within the normal range.\n",
            "* **Dengue Serology:** Negative for NS1 antigen, IgG, and IgM antibodies, ruling out recent or past dengue fever.\n",
            "* **Malaria Test:** Negative for both *Plasmodium vivax* and *Plasmodium falciparum*.\n",
            "\n",
            "**Hematology:**\n",
            "\n",
            "* **Complete Blood Picture (CBC):**  Hemoglobin, RBC, WBC, Platelets, and PCV were all within normal ranges. Differential count also showed normal ranges for neutrophils, lymphocytes, eosinophils, monocytes, and basophils.  Peripheral blood smear showed normal RBC morphology and WBC count within normal limits.\n",
            "* **Erythrocyte Sedimentation Rate (ESR):** Elevated (26 mm/hr in the first hour, 52 mm/hr in the second hour), suggesting inflammation.\n",
            "\n",
            "**Blood Chemistry:**\n",
            "\n",
            "* **HbA1c:** 5.4%, within the normal non-diabetic range.\n",
            "* **Random Blood Glucose:**  Within the normal range.\n",
            "* **Serum Creatinine:** Within the normal range.\n",
            "* **Liver Function Tests (LFTs):** All values (bilirubin, alkaline phosphatase, SGOT, SGPT, total protein, albumin, globulin, A/G ratio) were within normal ranges.\n",
            "* **Serum Electrolytes:** Sodium (122 mmol/l) was slightly below the normal range, while potassium and chloride were within normal limits.\n",
            "\n",
            "\n",
            "**Overall:** The results indicate possible past or present typhoid infection (supported by the Widal test), and an elevated ESR suggesting inflammation.  All other tests, including those for dengue fever and malaria, were negative.  The slightly low sodium level warrants further investigation.\n",
            "\n"
          ]
        }
      ]
    },
    {
      "cell_type": "code",
      "source": [
        "def detect_abnormalities(text):\n",
        "    model = genai.GenerativeModel(\"gemini-1.5-flash\")\n",
        "    prompt = f\"Analyze the lab test results and highlight any abnoraml values: \\n\\n{text}\"\n",
        "    response = model.generate_content(prompt)\n",
        "    return response.text\n",
        "abnormalities = detect_abnormalities(extracted_text)\n",
        "print(\"Potential Abnormalities: \\n\", abnormalities)"
      ],
      "metadata": {
        "colab": {
          "base_uri": "https://localhost:8080/",
          "height": 297
        },
        "id": "38-9RhGmlACn",
        "outputId": "3838d802-d249-4c50-ac23-c3d463df62f6"
      },
      "execution_count": 11,
      "outputs": [
        {
          "output_type": "stream",
          "name": "stdout",
          "text": [
            "Potential Abnormalities: \n",
            " Based on the provided lab results, the following values are outside the biological reference ranges, indicating potential abnormalities:\n",
            "\n",
            "* **Widal Test:**  S. Typhi \"O\" (1:160) and S. Typhi \"H\" (1:80) are significantly higher than the reference range (1:20).  This suggests a possible *Salmonella Typhi* infection (typhoid fever), although further investigation and clinical correlation are needed for definitive diagnosis. The titers are high enough to suggest past infection or current infection.\n",
            "\n",
            "* **Erythrocyte Sedimentation Rate (ESR):**  Both the 1st hour (26 mm/hr) and 2nd hour (52 mm/hr) ESR values are markedly elevated above the reference range (0-8 mm/hr for the 1st hour).  This indicates inflammation somewhere in the body.  The cause needs to be determined through further investigation and clinical assessment.\n",
            "\n",
            "* **Serum Sodium:** The serum sodium level (122 mmol/l) is below the reference range (135-146 mmol/l), indicating hyponatremia (low sodium in the blood). This is a significant finding and requires medical attention.  The cause of hyponatremia needs to be investigated.\n",
            "\n",
            "\n",
            "* **Serum Chloride:** The serum chloride level (97 mmol/l) is below the lower limit of the reference range (98-107 mmol/l).  This is mild hypochloremia and should be considered alongside the hyponatremia.\n",
            "\n",
            "\n",
            "All other test results fall within their respective reference ranges.  However, the abnormalities highlighted above necessitate further investigation and clinical evaluation by a physician to determine the underlying causes and appropriate treatment.  The elevated ESR, in particular, suggests ongoing inflammation which needs to be addressed.  The combination of hyponatremia and hypochloremia is concerning and requires further investigation.\n",
            "\n"
          ]
        }
      ]
    },
    {
      "cell_type": "code",
      "source": [
        "def explain_medical_terms(text):\n",
        "    \"\"\"Explains medical terminology in the given text using Gemini AI.\"\"\"\n",
        "    model = genai.GenerativeModel(\"gemini-1.5-flash\")\n",
        "    prompt = f\"Explain the following medical terminology:\\n\\n{text}\"\n",
        "    response = model.generate_content(prompt)\n",
        "    return response.text\n",
        "explanation = explain_medical_terms(extracted_text)\n",
        "print(\"Simplified Explanation:\\n\", explanation)"
      ],
      "metadata": {
        "colab": {
          "base_uri": "https://localhost:8080/",
          "height": 1000
        },
        "id": "9tANzbSXlAE4",
        "outputId": "fcbe506b-8c62-4eb5-f622-0e75fa08ce8a"
      },
      "execution_count": 12,
      "outputs": [
        {
          "output_type": "stream",
          "name": "stdout",
          "text": [
            "Simplified Explanation:\n",
            " This is a series of laboratory test results for Mr. Kishan Goud. Let's break down each section:\n",
            "\n",
            "**1. WIDAL Test (Microbiology & Serology):**\n",
            "\n",
            "This test screens for antibodies against *Salmonella* species, which cause typhoid fever and paratyphoid fever.  The results are expressed as dilutions.  A higher dilution indicates a stronger antibody response, suggesting a past or current infection.\n",
            "\n",
            "* **S. Typhi \"O\" 1:160:**  Antibody titer against the somatic (O) antigen of *Salmonella Typhi* is 1:160.  This is considered a positive result as it's significantly above the reference range (1:20).  It suggests possible past or current typhoid fever infection.\n",
            "* **S. Typhi \"H\" 1:80:** Antibody titer against the flagellar (H) antigen of *Salmonella Typhi* is 1:80.  This is also considered a positive result, above the reference range (1:20), supporting the possible infection.\n",
            "* **S. Paratyphi \"AH\" 1:20:** Antibody titer against the flagellar (H) antigen of *Salmonella Paratyphi A* is at the lower limit of the reference range (1:20). This is considered negative or borderline, insufficient to confirm an infection.\n",
            "* **S. Paratyphi \"BH\" 1:20:** Antibody titer against the flagellar (H) antigen of *Salmonella Paratyphi B* is at the lower limit of the reference range (1:20). This is also considered negative or borderline.\n",
            "\n",
            "**2. Dengue Serology (Microbiology & Serology):**\n",
            "\n",
            "This tests for dengue fever, a mosquito-borne viral illness.\n",
            "\n",
            "* **Dengue NS1 Antigen:** Negative.  This antigen is usually present during the acute phase of dengue infection.  A negative result indicates no acute infection.\n",
            "* **Dengue IgG:** Negative.  This antibody indicates past exposure to dengue virus.  A negative result indicates no previous infection.\n",
            "* **Dengue IgM:** Negative.  This antibody appears during the acute phase of dengue infection. A negative result indicates no current infection.\n",
            "\n",
            "**3. Erythrocyte Sedimentation Rate (ESR) (Hematology & Clinical Pathology):**\n",
            "\n",
            "This measures the rate at which red blood cells settle in a tube over time. An elevated ESR can indicate inflammation or infection.\n",
            "\n",
            "* **ESR 1st Hour:** 26 mm/hr (elevated compared to the reference range of 0-8 mm/hr).\n",
            "* **ESR 2nd Hour:** 52 mm/hr (further elevation).  The high ESR suggests inflammation somewhere in the body.\n",
            "\n",
            "**4. Rapid Malaria Test (Hematology & Clinical Pathology):**\n",
            "\n",
            "This is a quick test to detect malaria parasites.\n",
            "\n",
            "* **P.V (Plasmodium vivax):** Negative.\n",
            "* **P.F (Plasmodium falciparum):** Negative.  No evidence of malaria infection.\n",
            "\n",
            "\n",
            "**5. Complete Blood Picture (Hematology & Clinical Pathology):**\n",
            "\n",
            "This provides a comprehensive overview of the blood components.  Most values are within normal limits:\n",
            "\n",
            "* **Hemoglobin (Hb):** 13.6 gms% (within normal range 13-17)\n",
            "* **Red Blood Cells (RBC):** 4.3 mill/cumm (slightly low but within the acceptable range)\n",
            "* **White Blood Cells (WBC):** 7,200 cells/cumm (within normal range 4000-10000)\n",
            "* **Platelets:** 2.0 lakhs/cumm (within normal range 1.5-4.5)\n",
            "* **Packed Cell Volume (PCV):** 40.5% (within normal range 40-50)\n",
            "* **Differential Count:** Shows percentages of different white blood cell types, all within normal limits except possibly lymphocytes (31%, upper limit of normal)\n",
            "* **Peripheral Blood Smear:**  Describes the appearance of blood cells under a microscope; all within normal limits.\n",
            "\n",
            "**6. HbA1c (Hematology & Clinical Pathology):**\n",
            "\n",
            "This measures average blood glucose levels over the past 2-3 months. It's used to monitor diabetes.\n",
            "\n",
            "* **HbA1c:** 5.4% (within the normal non-diabetic range of 4-6%).  Indicates good glucose control; no diabetes.\n",
            "\n",
            "\n",
            "**7. Serum Creatinine (Biochemistry):**\n",
            "\n",
            "This measures kidney function.\n",
            "\n",
            "* **Serum Creatinine:** 0.8 mg/dl (within normal range 0.6-1.25). Indicates normal kidney function.\n",
            "\n",
            "\n",
            "**8. Random Blood Glucose (Biochemistry):**\n",
            "\n",
            "This measures blood glucose at a single point in time.\n",
            "\n",
            "* **Random Blood Glucose:**  (Value missing from provided text)  Needs the actual value to interpret this.\n",
            "\n",
            "**9. Liver Function Test (LFT) (Biochemistry):**\n",
            "\n",
            "These tests assess liver function.  All values are within normal limits, except possibly slightly higher lymphocytes count on CBC, meaning there is no significant liver damage indicated.\n",
            "\n",
            "\n",
            "**10. Serum Electrolytes (Biochemistry):**\n",
            "\n",
            "These tests measure the levels of important ions in the blood.  Sodium is slightly below the normal range; other electrolytes are within normal limits.\n",
            "\n",
            "* **Serum Sodium:** 122 mmol/l (slightly low compared to the reference range of 135-146).  This could indicate dehydration or other medical issues.\n",
            "* **Serum Potassium:** 3.5 mmol/l (within normal range).\n",
            "* **Serum Chloride:** 97 mmol/l (slightly low compared to the reference range).\n",
            "\n",
            "\n",
            "**Overall Interpretation:**\n",
            "\n",
            "The results show some abnormalities, particularly the elevated ESR and slightly low sodium levels. The positive Widal test suggests a possible past or present Salmonella infection (typhoid or paratyphoid).  However, the dengue tests and malaria tests are negative.  Further evaluation by a physician is needed to interpret these findings in the context of Mr. Kishan Goud's symptoms and medical history.  The slightly low sodium should also be addressed. The elevated ESR needs further investigation to pinpoint the source of inflammation.\n",
            "\n"
          ]
        }
      ]
    },
    {
      "cell_type": "markdown",
      "source": [
        "Ask Question from the report"
      ],
      "metadata": {
        "id": "bB0u-rWvq8P4"
      }
    },
    {
      "cell_type": "code",
      "source": [
        "def ask_gemini_about_report(text, question):\n",
        "  model = genai.GenerativeModel(\"gemini-1.5-flash\")\n",
        "  prompt = f\"The following is a health report: \\n\\n{text}\\n\\n Answer the following question based on the report: \\n{question}\"\n",
        "  response = model.generate_content(prompt)\n",
        "  return response.text\n",
        "question = \"What is the patient's diagnosis?\"\n",
        "answer = ask_gemini_about_report(extracted_text, question)\n",
        "print(\"Answer: \\n\", answer)"
      ],
      "metadata": {
        "colab": {
          "base_uri": "https://localhost:8080/",
          "height": 89
        },
        "id": "IBkczovJq6IL",
        "outputId": "0d3b8fd7-3861-4cb2-e8a0-7bdab18d9f86"
      },
      "execution_count": 14,
      "outputs": [
        {
          "output_type": "stream",
          "name": "stdout",
          "text": [
            "Answer: \n",
            " The provided lab report does not offer a diagnosis.  It presents various test results, some slightly outside of the reference ranges (like ESR and serum sodium), but these alone are insufficient to determine a diagnosis.  A diagnosis requires clinical evaluation by a physician considering symptoms, medical history, and the lab results in context.\n",
            "\n"
          ]
        }
      ]
    },
    {
      "cell_type": "code",
      "source": [],
      "metadata": {
        "id": "lw84XmigsU28"
      },
      "execution_count": null,
      "outputs": []
    }
  ]
}